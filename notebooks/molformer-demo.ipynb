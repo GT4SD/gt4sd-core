{
 "cells": [
  {
   "cell_type": "markdown",
   "metadata": {},
   "source": [
    "# Inference using the MolFormer Model"
   ]
  },
  {
   "cell_type": "markdown",
   "metadata": {},
   "source": [
    "In this notebook, we show how to perform inference using GT4SD and finetuned variants of the MolFormer model. The current existing models have been trained based on the datasets provided by the [official MolFormer repository]https://github.com/IBM/molformer)."
   ]
  },
  {
   "cell_type": "markdown",
   "metadata": {},
   "source": [
    "### Models for regression\n",
    "\n",
    "This method can be used for any regression task."
   ]
  },
  {
   "cell_type": "code",
   "execution_count": null,
   "metadata": {},
   "outputs": [],
   "source": [
    "from gt4sd.properties.molecules import MOLECULE_PROPERTY_PREDICTOR_FACTORY\n",
    "\n",
    "property_class, parameters_class = MOLECULE_PROPERTY_PREDICTOR_FACTORY[\"molformer_regression\"]\n",
    "model = property_class(parameters_class(algorithm_version=\"molformer_alpha_public_test\"))\n",
    "\n",
    "model(input=[\"OC12COC3=NCC1C23\"])"
   ]
  },
  {
   "cell_type": "markdown",
   "metadata": {},
   "source": [
    "### Models for classification\n",
    "\n",
    "This method can be used for any binary classification task."
   ]
  },
  {
   "cell_type": "code",
   "execution_count": null,
   "metadata": {},
   "outputs": [],
   "source": [
    "from gt4sd.properties.molecules import MOLECULE_PROPERTY_PREDICTOR_FACTORY\n",
    "\n",
    "property_class, parameters_class = MOLECULE_PROPERTY_PREDICTOR_FACTORY[\"molformer_classification\"]\n",
    "model = property_class(parameters_class(algorithm_version=\"molformer_bace_public_test\"))\n",
    "\n",
    "model(input=[\"OC12COC3=NCC1C23\"])"
   ]
  },
  {
   "cell_type": "markdown",
   "metadata": {},
   "source": [
    "### Molformer for multiclass classification\n",
    "\n",
    "This method can be used for any multiclass classification task."
   ]
  },
  {
   "cell_type": "code",
   "execution_count": null,
   "metadata": {},
   "outputs": [],
   "source": [
    "property_class, parameters_class = MOLECULE_PROPERTY_PREDICTOR_FACTORY[\"molformer_multitask_classification\"]\n",
    "model = property_class(parameters_class(algorithm_version=\"molformer_clintox_test\"))\n",
    "\n",
    "print(model([\"Ic1cc(ccc1)C[NH2+]C[C@@H](O)[C@@H](NC(=O)c1cc(cc(c1)C)C(=O)N(CCC)CCC)Cc1cc(F)cc(F)c1\"]))"
   ]
  }
 ],
 "metadata": {
  "kernelspec": {
   "display_name": "Python 3 (ipykernel)",
   "language": "python",
   "name": "python3"
  },
  "language_info": {
   "codemirror_mode": {
    "name": "ipython",
    "version": 3
   },
   "file_extension": ".py",
   "mimetype": "text/x-python",
   "name": "python",
   "nbconvert_exporter": "python",
   "pygments_lexer": "ipython3",
   "version": "3.8.16"
  },
  "vscode": {
   "interpreter": {
    "hash": "7f6df040e92be56c42e1ba5ffdd58832f97e24eff2af0498cbc88845f2e95a48"
   }
  }
 },
 "nbformat": 4,
 "nbformat_minor": 2
}
