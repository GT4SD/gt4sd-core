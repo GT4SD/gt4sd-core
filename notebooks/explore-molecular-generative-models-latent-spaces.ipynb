{
 "cells": [
  {
   "cell_type": "markdown",
   "id": "static-wrestling",
   "metadata": {},
   "source": [
    "# Exploring molecular generative models checking out their latent spaces\n",
    "\n",
    "Here you can find some examples on how to explore the latent spaces of some of the molecular generative models hosted in GT4SD."
   ]
  },
  {
   "cell_type": "code",
   "execution_count": null,
   "id": "natural-orbit",
   "metadata": {},
   "outputs": [],
   "source": [
    "import torch\n",
    "import mols2grid\n",
    "import seaborn as sns\n",
    "from tqdm import tqdm\n",
    "from rdkit import Chem\n",
    "from typing import Optional, List\n",
    "from matplotlib import pyplot as plt\n",
    "from sklearn.decomposition import PCA\n",
    "from paccmann_generator.drug_evaluators.scsore import SCScore\n",
    "\n",
    "\n",
    "def render_latent_points(latent_points: torch.Tensor, values: Optional[List]):\n",
    "    decomposed_points = PCA(n_components=2).fit_transform(latent_points)\n",
    "    sns.scatterplot(x=decomposed_points[:, 0], y=decomposed_points[:, 1], hue=values)\n"
   ]
  },
  {
   "cell_type": "markdown",
   "id": "suspected-custom",
   "metadata": {},
   "source": [
    "## PolymerBlocks\n",
    "\n",
    "An algorithm for generating monomers and catalyst for polymer chemistry."
   ]
  },
  {
   "cell_type": "code",
   "execution_count": null,
   "id": "significant-magic",
   "metadata": {},
   "outputs": [],
   "source": [
    "from gt4sd.algorithms.generation.polymer_blocks.core import PolymerBlocksGenerator, PolymerBlocks\n",
    "\n",
    "configuration = PolymerBlocksGenerator()\n",
    "algorithm = PolymerBlocks(configuration=configuration)"
   ]
  },
  {
   "cell_type": "markdown",
   "id": "administrative-scratch",
   "metadata": {},
   "source": [
    "Via the algorithm you can easily inspect the generated molecules interactively:"
   ]
  },
  {
   "cell_type": "code",
   "execution_count": null,
   "id": "still-anxiety",
   "metadata": {},
   "outputs": [],
   "source": [
    "molecules = list(algorithm.sample(15))"
   ]
  },
  {
   "cell_type": "code",
   "execution_count": null,
   "id": "competitive-updating",
   "metadata": {},
   "outputs": [],
   "source": [
    "mols2grid.display([Chem.MolFromSmiles(molecule) for molecule in molecules], fixedBondLength=200)"
   ]
  },
  {
   "cell_type": "markdown",
   "id": "varying-emerald",
   "metadata": {},
   "source": [
    "To unpack the model and inspect its latent spaces we can simply conduct an exploration using a random point cloud"
   ]
  },
  {
   "cell_type": "code",
   "execution_count": null,
   "id": "together-alarm",
   "metadata": {},
   "outputs": [],
   "source": [
    "# get the actual generator\n",
    "generator = configuration.get_conditional_generator(configuration.ensure_artifacts())\n",
    "# generate randomly points in the latent space\n",
    "number_of_latent_points = 1024\n",
    "latent_points = torch.randn(\n",
    "    number_of_latent_points - (number_of_latent_points % generator.batch_size),  # making sure the points are chunked properly\n",
    "    generator.gru_decoder.latent_dim,\n",
    "    device=generator.device\n",
    ")\n",
    "# keep points related to valid molecules\n",
    "molecules = []\n",
    "for latent_points_batch in tqdm(torch.split(latent_points, generator.batch_size)):\n",
    "    indexes = generator.decode(latent_points_batch)\n",
    "    generated_molecules = [\n",
    "        Chem.MolFromSmiles(generator.smiles_language.token_indexes_to_smiles(index))\n",
    "        for index in indexes\n",
    "    ]\n",
    "    molecules.extend(generated_molecules)\n",
    "valid_indexes = [index for index, molecule in enumerate(molecules) if molecule is not None]\n",
    "molecules = [molecules[index] for index in valid_indexes]\n",
    "latent_points = latent_points[valid_indexes]"
   ]
  },
  {
   "cell_type": "code",
   "execution_count": null,
   "id": "massive-speaking",
   "metadata": {},
   "outputs": [],
   "source": [
    "values = [Chem.Descriptors.MolWt(molecule) for molecule in molecules]\n",
    "_ = render_latent_points(latent_points, values=values)\n",
    "_ = plt.title(\"Rendering molecular weight in a 2D projection of the latent space\")"
   ]
  },
  {
   "cell_type": "markdown",
   "id": "armed-radius",
   "metadata": {},
   "source": [
    "## PaccMannRL\n",
    "\n",
    "A family of algorithms for generating candidate hit-like molecules either targeting an omic profile [[1]](https://doi.org/10.1016/j.isci.2021.102269) or AA sequences [[2]](https://doi.org/10.1088/2632-2153/abe808).\n",
    "\n",
    "Let's explore the model for targeted ligand design given a protein sequence."
   ]
  },
  {
   "cell_type": "code",
   "execution_count": null,
   "id": "british-cookie",
   "metadata": {},
   "outputs": [],
   "source": [
    "from gt4sd.algorithms.conditional_generation.paccmann_rl.core import PaccMannRL, PaccMannRLProteinBasedGenerator\n",
    "\n",
    "# >sp|Q9BYF1|ACE2_HUMAN Angiotensin-converting enzyme 2 OS=Homo sapiens OX=9606 GN=ACE2 PE=1 SV=2\n",
    "target = \"\".join(filter(str.isalpha, (list(\"\"\"\n",
    "MSSSSWLLLSLVAVTAAQSTIEEQAKTFLDKFNHEAEDLFYQSSLASWNYNTNITEENVQ\n",
    "NMNNAGDKWSAFLKEQSTLAQMYPLQEIQNLTVKLQLQALQQNGSSVLSEDKSKRLNTIL\n",
    "NTMSTIYSTGKVCNPDNPQECLLLEPGLNEIMANSLDYNERLWAWESWRSEVGKQLRPLY\n",
    "EEYVVLKNEMARANHYEDYGDYWRGDYEVNGVDGYDYSRGQLIEDVEHTFEEIKPLYEHL\n",
    "HAYVRAKLMNAYPSYISPIGCLPAHLLGDMWGRFWTNLYSLTVPFGQKPNIDVTDAMVDQ\n",
    "AWDAQRIFKEAEKFFVSVGLPNMTQGFWENSMLTDPGNVQKAVCHPTAWDLGKGDFRILM\n",
    "CTKVTMDDFLTAHHEMGHIQYDMAYAAQPFLLRNGANEGFHEAVGEIMSLSAATPKHLKS\n",
    "IGLLSPDFQEDNETEINFLLKQALTIVGTLPFTYMLEKWRWMVFKGEIPKDQWMKKWWEM\n",
    "KREIVGVVEPVPHDETYCDPASLFHVSNDYSFIRYYTRTLYQFQFQEALCQAAKHEGPLH\n",
    "KCDISNSTEAGQKLFNMLRLGKSEPWTLALENVVGAKNMNVRPLLNYFEPLFTWLKDQNK\n",
    "NSFVGWSTDWSPYADQSIKVRISLKSALGDKAYEWNDNEMYLFRSSVAYAMRQYFLKVKN\n",
    "QMILFGEEDVRVANLKPRISFNFFVTAPKNVSDIIPRTEVEKAIRMSRSRINDAFRLNDN\n",
    "SLEFLGIQPTLGPPNQPPVSIWLIVFGVVMGVIVVGIVILIFTGIRDRKKKNKARSGENP\n",
    "YASIDISKGENNPGFQNTDDVQTSF\n",
    "\"\"\"))))\n",
    "configuration = PaccMannRLProteinBasedGenerator()\n",
    "algorithm = PaccMannRL(configuration=configuration, target=target)"
   ]
  },
  {
   "cell_type": "markdown",
   "id": "australian-ethics",
   "metadata": {},
   "source": [
    "Via the algorithm you can easily inspect the generated molecules interactively:"
   ]
  },
  {
   "cell_type": "code",
   "execution_count": null,
   "id": "resistant-questionnaire",
   "metadata": {},
   "outputs": [],
   "source": [
    "molecules = list(algorithm.sample(15))"
   ]
  },
  {
   "cell_type": "code",
   "execution_count": null,
   "id": "psychological-picking",
   "metadata": {},
   "outputs": [],
   "source": [
    "mols2grid.display([Chem.MolFromSmiles(molecule) for molecule in molecules], fixedBondLength=200)"
   ]
  },
  {
   "cell_type": "markdown",
   "id": "maritime-supply",
   "metadata": {},
   "source": [
    "To unpack the model and inspect its latent spaces we can simply conduct an exploration using a random point cloud"
   ]
  },
  {
   "cell_type": "code",
   "execution_count": null,
   "id": "designed-portable",
   "metadata": {},
   "outputs": [],
   "source": [
    "# get the actual generator\n",
    "generator = configuration.get_conditional_generator(configuration.ensure_artifacts())\n",
    "# generate randomly points in the latent space\n",
    "number_of_latent_points = 512\n",
    "latent_points = torch.randn(\n",
    "    number_of_latent_points, generator.encoder_latent_size, device=generator.device\n",
    ")\n",
    "# keep points related to valid molecules\n",
    "molecules = []\n",
    "for latent_point in tqdm(torch.unsqueeze(latent_points, 1)):\n",
    "    smiles_list = generator.get_smiles_from_latent(latent_point)\n",
    "    generated_molecules = [\n",
    "        Chem.MolFromSmiles(smiles)\n",
    "        for smiles in smiles_list\n",
    "    ][:1]  # keeping only a molecule per point\n",
    "    molecules.extend(generated_molecules)\n",
    "valid_indexes = [index for index, molecule in enumerate(molecules) if molecule is not None]\n",
    "molecules = [molecules[index] for index in valid_indexes]\n",
    "latent_points = latent_points[valid_indexes]"
   ]
  },
  {
   "cell_type": "code",
   "execution_count": null,
   "id": "elementary-albania",
   "metadata": {},
   "outputs": [],
   "source": [
    "values=[]\n",
    "for molecule in molecules:\n",
    "    try:\n",
    "        values.append(Chem.QED.qed(molecule))\n",
    "    except:\n",
    "        values.append(0.0)\n",
    "_ = render_latent_points(latent_points, values=values)\n",
    "_ = plt.title(\"Rendering drug likeness in a 2D projection of the latent space\")"
   ]
  },
  {
   "cell_type": "markdown",
   "id": "sorted-chair",
   "metadata": {},
   "source": [
    "## PaccMannGP\n",
    "\n",
    "An algorithm for generating molecules using controlled sampling based on Gaussian Processes [[3]](https://doi.org/10.1021/acs.jcim.1c00889)."
   ]
  },
  {
   "cell_type": "code",
   "execution_count": null,
   "id": "exclusive-crossing",
   "metadata": {},
   "outputs": [],
   "source": [
    "from gt4sd.algorithms.controlled_sampling.paccmann_gp.core import PaccMannGP, PaccMannGPGenerator\n",
    "\n",
    "# maximizing drug likeness and synthesizability\n",
    "target = {\"qed\": {\"weight\": 1.0}, \"sa\": {\"weight\": 1.0}}\n",
    "configuration = PaccMannGPGenerator()\n",
    "algorithm = PaccMannGP(configuration=configuration, target=target)"
   ]
  },
  {
   "cell_type": "markdown",
   "id": "critical-correspondence",
   "metadata": {},
   "source": [
    "Via the algorithm you can easily inspect the generated molecules interactively:"
   ]
  },
  {
   "cell_type": "code",
   "execution_count": null,
   "id": "wanted-progressive",
   "metadata": {},
   "outputs": [],
   "source": [
    "molecules = list(algorithm.sample(15))"
   ]
  },
  {
   "cell_type": "code",
   "execution_count": null,
   "id": "instant-definition",
   "metadata": {},
   "outputs": [],
   "source": [
    "mols2grid.display([Chem.MolFromSmiles(molecule) for molecule in molecules], fixedBondLength=200)"
   ]
  },
  {
   "cell_type": "markdown",
   "id": "powered-quarterly",
   "metadata": {},
   "source": [
    "To unpack the model and inspect its latent spaces we can simply conduct an exploration using a random point cloud"
   ]
  },
  {
   "cell_type": "code",
   "execution_count": null,
   "id": "tired-texas",
   "metadata": {},
   "outputs": [],
   "source": [
    "# get the actual generator\n",
    "generator = configuration.get_conditional_generator(configuration.ensure_artifacts())\n",
    "# generate randomly points in the latent space\n",
    "number_of_latent_points = 1024\n",
    "latent_points = torch.randn(\n",
    "    number_of_latent_points - (number_of_latent_points % generator.batch_size),\n",
    "    generator.latent_dim, device=generator.device\n",
    ")\n",
    "# keep points related to valid molecules\n",
    "molecules = []\n",
    "for latent_points_batch in tqdm(torch.split(latent_points, generator.batch_size)):\n",
    "    smiles_list = generator.smiles_generator.generate_smiles(latent_points_batch.unsqueeze(0))\n",
    "    generated_molecules = [\n",
    "        Chem.MolFromSmiles(smiles)\n",
    "        for smiles in smiles_list\n",
    "    ]\n",
    "    molecules.extend(generated_molecules)\n",
    "valid_indexes = [index for index, molecule in enumerate(molecules) if molecule is not None]\n",
    "molecules = [molecules[index] for index in valid_indexes]\n",
    "latent_points = latent_points[valid_indexes]"
   ]
  },
  {
   "cell_type": "code",
   "execution_count": null,
   "id": "premier-champion",
   "metadata": {},
   "outputs": [],
   "source": [
    "values=[]\n",
    "for molecule in molecules:\n",
    "    try:\n",
    "        values.append(Chem.QED.qed(molecule))\n",
    "    except:\n",
    "        values.append(0.0)\n",
    "_ = render_latent_points(latent_points, values=values)\n",
    "_ = plt.title(\"Rendering drug likeness in a 2D projection of the latent space\")"
   ]
  },
  {
   "cell_type": "markdown",
   "id": "optional-armenia",
   "metadata": {},
   "source": [
    "## AdvancedManufacturing\n",
    "\n",
    "A collection of algorithm for generating molecules using controlled sampling leveraging data-driven continuos representations of molecules [[4]](https://doi.org/10.1021/acscentsci.7b00572) extending the autoencoders architecture considered (e.g., VAE-RNNs, VAE-Transformers)."
   ]
  },
  {
   "cell_type": "code",
   "execution_count": null,
   "id": "earlier-hungarian",
   "metadata": {},
   "outputs": [],
   "source": [
    "from gt4sd.algorithms.controlled_sampling.advanced_manufacturing.core import AdvancedManufacturing, CatalystGenerator \n",
    "\n",
    "# generate catalysts with target binding energy\n",
    "target = 10.0\n",
    "configuration = CatalystGenerator()\n",
    "algorithm = AdvancedManufacturing(configuration=configuration, target=target)"
   ]
  },
  {
   "cell_type": "markdown",
   "id": "express-vector",
   "metadata": {},
   "source": [
    "Via the algorithm you can easily inspect the generated molecules interactively:"
   ]
  },
  {
   "cell_type": "code",
   "execution_count": null,
   "id": "intelligent-inspiration",
   "metadata": {},
   "outputs": [],
   "source": [
    "molecules = list(algorithm.sample(15))"
   ]
  },
  {
   "cell_type": "code",
   "execution_count": null,
   "id": "synthetic-saturn",
   "metadata": {},
   "outputs": [],
   "source": [
    "mols2grid.display([Chem.MolFromSmiles(molecule) for molecule in molecules], fixedBondLength=200)"
   ]
  },
  {
   "cell_type": "markdown",
   "id": "noble-classroom",
   "metadata": {},
   "source": [
    "To unpack the model and inspect its latent spaces we can simply conduct an exploration using a random point cloud"
   ]
  },
  {
   "cell_type": "code",
   "execution_count": null,
   "id": "comic-soundtrack",
   "metadata": {},
   "outputs": [],
   "source": [
    "generator = configuration.get_conditional_generator(configuration.ensure_artifacts())"
   ]
  },
  {
   "cell_type": "code",
   "execution_count": null,
   "id": "frozen-lithuania",
   "metadata": {},
   "outputs": [],
   "source": [
    "# get the actual generator\n",
    "generator = configuration.get_conditional_generator(configuration.ensure_artifacts())\n",
    "# generate randomly points in the latent space\n",
    "number_of_latent_points = 256\n",
    "latent_points = torch.randn(number_of_latent_points, generator.vae.z_dimension)\n",
    "# keep points related to valid molecules\n",
    "molecules = []\n",
    "for latent_point in tqdm(latent_points):\n",
    "    molecules.append(Chem.MolFromSmiles(generator.vae.decode(latent_point)))\n",
    "valid_indexes = [index for index, molecule in enumerate(molecules) if molecule is not None]\n",
    "molecules = [molecules[index] for index in valid_indexes]\n",
    "latent_points = latent_points[valid_indexes]"
   ]
  },
  {
   "cell_type": "code",
   "execution_count": null,
   "id": "legislative-grammar",
   "metadata": {},
   "outputs": [],
   "source": [
    "scs_scorer = SCScore()\n",
    "values = [scs_scorer(molecule) for molecule in molecules]\n",
    "_ = render_latent_points(latent_points, values=values)\n",
    "_ = plt.title(\"Rendering SCS score in a 2D projection of the latent space\")"
   ]
  }
 ],
 "metadata": {
  "kernelspec": {
   "display_name": "gt4sd",
   "language": "python",
   "name": "gt4sd"
  },
  "language_info": {
   "codemirror_mode": {
    "name": "ipython",
    "version": 3
   },
   "file_extension": ".py",
   "mimetype": "text/x-python",
   "name": "python",
   "nbconvert_exporter": "python",
   "pygments_lexer": "ipython3",
   "version": "3.7.11"
  }
 },
 "nbformat": 4,
 "nbformat_minor": 5
}
