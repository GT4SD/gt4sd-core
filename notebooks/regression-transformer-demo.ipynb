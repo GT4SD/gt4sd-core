{
 "cells": [
  {
   "cell_type": "markdown",
   "id": "302355e8",
   "metadata": {},
   "source": [
    "<img align=\"right\" src=\"https://raw.githubusercontent.com/GT4SD/gt4sd-core/main/docs/_static/gt4sd_logo.png\" alt=\"logo\" width=\"100\" height=\"100\"/>\n",
    "\n",
    "##  Demo: Regression Transformer in the Generative Toolkit for Scientific Discovery\n"
   ]
  },
  {
   "cell_type": "code",
   "execution_count": null,
   "id": "cb8d7e46",
   "metadata": {},
   "outputs": [],
   "source": [
    "import logging, sys\n",
    "logging.disable(sys.maxsize)\n",
    "\n",
    "\n",
    "from gt4sd.algorithms.conditional_generation.regression_transformer import (\n",
    "    RegressionTransformer, RegressionTransformerMolecules\n",
    ")\n",
    "import mols2grid\n",
    "from rdkit import Chem\n",
    "from selfies import encoder\n",
    "import pandas as pd"
   ]
  },
  {
   "cell_type": "markdown",
   "id": "67314a02",
   "metadata": {},
   "source": [
    "# Let us have a look at Buturon, a common herbicide"
   ]
  },
  {
   "cell_type": "code",
   "execution_count": null,
   "id": "731cf426",
   "metadata": {},
   "outputs": [],
   "source": [
    "smi = \"CC(C#C)N(C)C(=O)NC1=CC=C(Cl)C=C1\"\n",
    "Chem.MolFromSmiles(smi)"
   ]
  },
  {
   "cell_type": "markdown",
   "id": "8738635c",
   "metadata": {},
   "source": [
    "## Buturon has a water solubility score of -3.90\n",
    "## We can predict its ESOL (estimated solubility) value with the RegressionTransformer"
   ]
  },
  {
   "cell_type": "code",
   "execution_count": null,
   "id": "0ae41998",
   "metadata": {},
   "outputs": [],
   "source": [
    "config = RegressionTransformerMolecules(search='greedy')\n",
    "target = f\"<esol>[MASK][MASK][MASK][MASK][MASK]|{encoder(smi)}\"\n",
    "esol_predictor = RegressionTransformer(configuration=config, target=target)\n",
    "score = list(esol_predictor.sample(1))[0]\n",
    "print(f\"For Buturuon, the predicted ESOL is {score}\")"
   ]
  },
  {
   "cell_type": "markdown",
   "id": "e7fb878d",
   "metadata": {},
   "source": [
    "#### Ok, we can see that the prediction was decently close but not perfect\n",
    "#### Now let us try to improve Buturuon to a molecule with higher solubility\n",
    "#### Note, that we will use the same model to do so!\n"
   ]
  },
  {
   "cell_type": "markdown",
   "id": "5484a56f",
   "metadata": {},
   "source": [
    "#### We simply set the hyperparameters for the search and mask undesired parts of the molecule"
   ]
  },
  {
   "cell_type": "code",
   "execution_count": null,
   "id": "e7e2fdd2",
   "metadata": {},
   "outputs": [],
   "source": [
    "config = RegressionTransformerMolecules(search=\"sample\", temperature=2, tolerance=5)\n",
    "target = \"<esol>-3.534|[C][C][Branch1_3][Ring1][C][#C][N][Branch1_3][epsilon][C][C][Branch1_3][epsilon][MASK][MASK][MASK][MASK][C][=C][Branch1_3][epsilon][Cl][C][=C][Ring1][Branch1_2]\""
   ]
  },
  {
   "cell_type": "code",
   "execution_count": null,
   "id": "3596b2aa",
   "metadata": {},
   "outputs": [],
   "source": [
    "esol_generator = RegressionTransformer(\n",
    "    configuration=config, target=target\n",
    ")\n",
    "generations = list(esol_generator.sample(5))\n",
    "generations"
   ]
  },
  {
   "cell_type": "code",
   "execution_count": null,
   "id": "d106d658",
   "metadata": {},
   "outputs": [],
   "source": [
    "print(\"\\033[1m\" \"\\t\\t\\tButuruon-inspired molecules with a higher solubility score \")\n",
    "result = pd.DataFrame({\n",
    "    \"SMILES\": [smi] + [s for s,p in generations],\n",
    "    \"Name\": [\"Buturon\"] + 5*[\"Novel (from RT)\"],\n",
    "    \"ESOL\": [score] + [round(p, 3) for s,p in generations]\n",
    "})\n",
    "mols2grid.display(\n",
    "    result, tooltip=[\"Name\", \"SMILES\", \"ESOL\"],\n",
    "    fixedBondLength=25, n_cols=6, width=\"100%\", height=None,\n",
    "    name='Results'\n",
    ")"
   ]
  },
  {
   "cell_type": "code",
   "execution_count": null,
   "id": "b285822c",
   "metadata": {},
   "outputs": [],
   "source": []
  }
 ],
 "metadata": {
  "kernelspec": {
   "display_name": "Python 3 (ipykernel)",
   "language": "python",
   "name": "python3"
  },
  "language_info": {
   "codemirror_mode": {
    "name": "ipython",
    "version": 3
   },
   "file_extension": ".py",
   "mimetype": "text/x-python",
   "name": "python",
   "nbconvert_exporter": "python",
   "pygments_lexer": "ipython3",
   "version": "3.7.11"
  }
 },
 "nbformat": 4,
 "nbformat_minor": 5
}
