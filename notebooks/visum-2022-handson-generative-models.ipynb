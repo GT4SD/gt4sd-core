{
 "cells": [
  {
   "cell_type": "markdown",
   "id": "294c8ef1",
   "metadata": {
    "id": "f2DzM98wnK1C"
   },
   "source": [
    "# Deep Generative Models for COVID 19 Drug Discovery\n",
    "### VISUM 2022 - Hands-on Session\n",
    "### Prepared by Helena Montenegro, Eduardo Castro, Matteo Manica and Michal Rosen-Zvi\n",
    "\n",
    "This hands-on session will use [GT4SD](https://github.com/GT4SD/gt4sd-core) to generate potential new drugs for treating COVID-19. Our goal is to find molecules that i) **bind** to the desired target protein; ii) are **non-toxic**; iii) can be **easily synthesized**."
   ]
  },
  {
   "cell_type": "code",
   "execution_count": null,
   "id": "488eaad4",
   "metadata": {},
   "outputs": [],
   "source": [
    "import os\n",
    "disable_gpu = True\n",
    "if disable_gpu:\n",
    "    os.environ[\"CUDA_VISIBLE_DEVICES\"] = \"\"\n",
    "import tensorflow as tf"
   ]
  },
  {
   "cell_type": "markdown",
   "id": "b3488c5d",
   "metadata": {},
   "source": [
    "## Choosing a target protein\n",
    "\n",
    "Our first step is to choose a target protein. To find COVID-related proteins, both from human and coronavirus organisms, we can use the following site [covid-19.uniprot.org](https://covid-19.uniprot.org/). The well-known [spike glycoprotein](https://covid-19.uniprot.org/uniprotkb/P0DTC2) is the one that initiates the infection of host cells and so we will be using that for this tutorial. Feel free to explore other target proteins.\n",
    "\n",
    "<ins>**Note:** String representation of proteins</ins>\n",
    "> Protein molecules are long sequences of aminoacids. There are a total of 20 of these basic units used by the human body and so we can code each with a letter, and the whole protein as a string (sequence of letters). For more information on this code you can check [here](http://web.mit.edu/meme_v4.11.4/share/doc/alphabets.html#protein).\n",
    "\n",
    "**Exercise: Change the string below to the desired target protein.**"
   ]
  },
  {
   "cell_type": "code",
   "execution_count": null,
   "id": "ae81d0e6",
   "metadata": {},
   "outputs": [],
   "source": [
    "# This is an example string for the ACE2_HUMAN Angiotensin-converting enzyme 2\n",
    "# Change this so that this string codes for the desired target protein\n",
    "string = \"\"\"\n",
    "MSSSSWLLLSLVAVTAAQSTIEEQAKTFLDKFNHEAEDLFYQSSLASWNYNTNITEENVQ\n",
    "NMNNAGDKWSAFLKEQSTLAQMYPLQEIQNLTVKLQLQALQQNGSSVLSEDKSKRLNTIL\n",
    "NTMSTIYSTGKVCNPDNPQECLLLEPGLNEIMANSLDYNERLWAWESWRSEVGKQLRPLY\n",
    "EEYVVLKNEMARANHYEDYGDYWRGDYEVNGVDGYDYSRGQLIEDVEHTFEEIKPLYEHL\n",
    "HAYVRAKLMNAYPSYISPIGCLPAHLLGDMWGRFWTNLYSLTVPFGQKPNIDVTDAMVDQ\n",
    "AWDAQRIFKEAEKFFVSVGLPNMTQGFWENSMLTDPGNVQKAVCHPTAWDLGKGDFRILM\n",
    "CTKVTMDDFLTAHHEMGHIQYDMAYAAQPFLLRNGANEGFHEAVGEIMSLSAATPKHLKS\n",
    "IGLLSPDFQEDNETEINFLLKQALTIVGTLPFTYMLEKWRWMVFKGEIPKDQWMKKWWEM\n",
    "KREIVGVVEPVPHDETYCDPASLFHVSNDYSFIRYYTRTLYQFQFQEALCQAAKHEGPLH\n",
    "KCDISNSTEAGQKLFNMLRLGKSEPWTLALENVVGAKNMNVRPLLNYFEPLFTWLKDQNK\n",
    "NSFVGWSTDWSPYADQSIKVRISLKSALGDKAYEWNDNEMYLFRSSVAYAMRQYFLKVKN\n",
    "QMILFGEEDVRVANLKPRISFNFFVTAPKNVSDIIPRTEVEKAIRMSRSRINDAFRLNDN\n",
    "SLEFLGIQPTLGPPNQPPVSIWLIVFGVVMGVIVVGIVILIFTGIRDRKKKNKARSGENP\n",
    "YASIDISKGENNPGFQNTDDVQTSF\n",
    "\"\"\"\n",
    "target_protein = \"\".join(filter(str.isalpha, (list(string))))"
   ]
  },
  {
   "cell_type": "markdown",
   "id": "d376f0e4",
   "metadata": {},
   "source": [
    "## Defining metrics of interest\n",
    "\n",
    "The following metrics will be used to quantify properties of interest in the generated molecules:\n",
    "\n",
    "- **drug-likeness (QED)**\n",
    "    \n",
    "> This is a quantitative measure of how close a molecule is to approved drugs, and is estimated based on different molecular properties. A similar structure to approved drugs increases the likelihood of the molecule having desirable properties.\n",
    "    \n",
    "    \n",
    "- **aquous solubility**\n",
    "- **synthetic accessibility score (SAS)**\n",
    "\n",
    "> Measures how synthesiable a molecule is.\n",
    "\n",
    "\n",
    "- **molecular weight**"
   ]
  },
  {
   "cell_type": "code",
   "execution_count": null,
   "id": "d6339ef8",
   "metadata": {},
   "outputs": [],
   "source": [
    "from rdkit import Chem\n",
    "from paccmann_generator.drug_evaluators.esol import ESOL\n",
    "from paccmann_generator.drug_evaluators.sas import SAS\n",
    "from paccmann_generator.drug_evaluators.scsore import SCScore\n",
    "\n",
    "#descriptors\n",
    "def get_drug_likeness(mol):                   # drug likeness\n",
    "    try:\n",
    "        return Chem.QED.qed(mol)               \n",
    "    except:\n",
    "        return 0.0\n",
    "\n",
    "get_solubility = ESOL()                        # solubility\n",
    "get_synthesizability = SCScore()               # synthesizability\n",
    "get_molecularWeight = Chem.Descriptors.MolWt   # molecular weight"
   ]
  },
  {
   "cell_type": "markdown",
   "id": "705b0b7c",
   "metadata": {},
   "source": [
    "## GT4SD (Generative Toolkit for Scientific Discovery)\n",
    "\n",
    "> The GT4SD (Generative Toolkit for Scientific Discovery) is an open-source platform to accelerate hypothesis generation in the scientific discovery process. It provides a library for making state-of-the-art generative AI models easier to use.\n",
    "\n",
    "In this tutorial we will cover two generative methods, but feel free to further explore the platform on your own ([Getting started](https://github.com/GT4SD/gt4sd-core#getting-started))"
   ]
  },
  {
   "cell_type": "markdown",
   "id": "77906d63",
   "metadata": {},
   "source": [
    "## Generation with PaccMannRL\n",
    "\n",
    "**PaccMannRL** was devised for generating molecules targeting a specific protein or biomolecular profile. In this tutorial, given a protein, we want to obtain a compound that maximizes protein-drug binding affinity.\n",
    "\n",
    "![PaccMannRL graphical abstract](https://els-jbs-prod-cdn.jbs.elsevierhealth.com/cms/attachment/d19784d0-f167-4caf-8b3a-cd51c38232c0/fx1.jpg)\n",
    "\n",
    "\n",
    "The PaccMannRL model is composed of three basic modules:\n",
    "\n",
    "- **Protein VAE**: creates a latent representation of the target protein;\n",
    "- **Compound VAE**: generates a compound as a sequence;\n",
    "- **Multimodal critic model**: given the protein and a compound, predicts the protein-drug binding affinity.\n",
    "\n",
    "<ins>**Note:** Variational Autoencoder</ins>\n",
    "> If you want to learn more about VAEs, you can find it here. You can also read more on sequential VAEs and Denoising VAEs.\n",
    "\n",
    "\n",
    "Each of these modules are pretrained separately. The Protein VAE is trained as a denoising VAE, the Compound VAE as a sequential VAE and finally, the Multimodel critic as a regression model. Then, they are put together in the same network. Using the encoder of the Protein VAE creates a latent representation of the target protein. Then, the protein’s latent representation is provided as input to the decoder of the Compound VAE, which originates a new compound. A reinforcement learning strategy is used to optimize the Protein encoder and Compount decoder, using the critic's output as reward.\n",
    "\n",
    "\n",
    "**References:**\n",
    "\n",
    "[1] - Born, J., Manica, M., Cadow, J., Markert, G., Mill, N. A., Filipavicius, M., Janakarajan, N., Cardinale, A., Laino, T., &amp; Rodríguez Martínez, M. (2021). Data-driven molecular design for discovery and synthesis of novel ligands: A case study on SARS-COV-2. Machine Learning: Science and Technology, 2(2), 025024. https://doi.org/10.1088/2632-2153/abe808\n",
    "\n",
    "[2] - Born, J., Manica, M., Oskooei, A., Cadow, J., Markert, G., &amp; Rodríguez Martínez, M. (2021). PaccMann^RL: De novo generation of hit-like anticancer molecules from transcriptomic data via reinforcement learning. IScience, 24(4), 102269. https://doi.org/10.1016/j.isci.2021.102269 \n"
   ]
  },
  {
   "cell_type": "markdown",
   "id": "1bde834b",
   "metadata": {},
   "source": [
    "### Configuring the model\n",
    "\n",
    "Our first step is to initialize the algorithm with the target chosen in the previous step."
   ]
  },
  {
   "cell_type": "code",
   "execution_count": null,
   "id": "38444c7b",
   "metadata": {},
   "outputs": [],
   "source": [
    "from gt4sd.algorithms.conditional_generation.paccmann_rl.core import PaccMannRL, PaccMannRLProteinBasedGenerator\n",
    "\n",
    "\n",
    "# possible arguments generated_length=100\n",
    "configuration = PaccMannRLProteinBasedGenerator()\n",
    "algorithm = PaccMannRL(configuration=configuration, target=target_protein)"
   ]
  },
  {
   "cell_type": "markdown",
   "id": "b20a9df1",
   "metadata": {},
   "source": [
    "### Visualizing its components (summary)\n",
    "\n",
    "To generate molecules we only need the protein encoder and the compound generator.\n",
    "In the code below:\n",
    "\n",
    "- **Sequence Embedder**: maps the protein string into an embedding space;\n",
    "\n",
    "- **Protein Encoder**: encodes the result of the sequence embedder into the latent representation of the Protein VAE;\n",
    "\n",
    "- **Generator**: Compound VAE."
   ]
  },
  {
   "cell_type": "code",
   "execution_count": null,
   "id": "7a030c36",
   "metadata": {
    "scrolled": true
   },
   "outputs": [],
   "source": [
    "model = configuration.get_conditional_generator(configuration.ensure_artifacts())\n",
    "\n",
    "print(\"\\n\\nLet's look at the models that will be used in the generation process:\")\n",
    "\n",
    "print(\"Sequence Embedder\")\n",
    "for n, c in model.primary_sequence_embedder.named_modules():\n",
    "    if n.count(\".\")==1:\n",
    "        print(\"\\t\", n)\n",
    "\n",
    "print(\"Protein Encoder\")\n",
    "for n, c in model.protein_embedding_encoder.named_modules():\n",
    "    if n.count(\".\")==0 and n!=\"\":\n",
    "        print(\"\\t\", n)\n",
    "\n",
    "print(\"Generator\")\n",
    "for n, c in model.selfies_conditional_generator.named_modules():\n",
    "    if n.count(\".\")==0 and n!=\"\":\n",
    "        print(\"\\t\", n)"
   ]
  },
  {
   "cell_type": "markdown",
   "id": "479bf998",
   "metadata": {},
   "source": [
    "#### Example: Generating one molecule using the Compound VAE\n",
    "\n",
    "The code below shows how we can use the decoder of a sequential VAE to generate a compound (i.e., sequence of tokens). Notice that this is an illustrative example, since we do not condition the Compound Decoder on the protein target, as we do in PaccMannRL.\n",
    "\n",
    "We start by defining some parameters. \n",
    "\n",
    "The **generate_len** is the maximum size of the generated sequence. **search** defines how we decide the search strategy used after each iteration of the decoder."
   ]
  },
  {
   "cell_type": "code",
   "execution_count": null,
   "id": "f7938e30",
   "metadata": {},
   "outputs": [],
   "source": [
    "import torch\n",
    "from pytoda.smiles.smiles_language import SMILESLanguage\n",
    "from paccmann_chemistry.utils.search import SamplingSearch\n",
    "\n",
    "# parameters for the generation\n",
    "batch_size = 1\n",
    "search = SamplingSearch()\n",
    "prime_input = torch.tensor([SMILESLanguage().start_index])\n",
    "end_token = torch.tensor([SMILESLanguage().stop_index])\n",
    "generate_len = 100\n",
    "\n",
    "# grab the decoder model\n",
    "decoder = model.selfies_conditional_generator.decoder\n",
    "decoder._update_batch_size(batch_size)"
   ]
  },
  {
   "cell_type": "markdown",
   "id": "370c5117",
   "metadata": {},
   "source": [
    "We start by sampling a random vector in the latent representation of the compound VAE. Our initial molecule is an empty sequence, containing only the input token."
   ]
  },
  {
   "cell_type": "code",
   "execution_count": null,
   "id": "b675b047",
   "metadata": {},
   "outputs": [],
   "source": [
    "# generate latent vectors\n",
    "latent_z = torch.randn(1, batch_size, decoder.latent_dim)\n",
    "latent_z = latent_z.repeat(decoder.n_layers, 1, 1)\n",
    "\n",
    "# empty sequence\n",
    "generated_seq = prime_input.repeat(batch_size, 1)\n",
    "prime_input = generated_seq.transpose(1, 0).unsqueeze(1)\n",
    "input_token = prime_input[-1]\n",
    "\n",
    "# first pass t=0\n",
    "hidden = decoder.latent_to_hidden(latent_z)\n",
    "stack = decoder.init_stack"
   ]
  },
  {
   "cell_type": "markdown",
   "id": "b247a032",
   "metadata": {},
   "source": [
    "In each iteration we generate an additional token. For this we first compute the probabilities of each token being the next in the sequence and then sample one based on our search strategy. We append it to the end of our sequence and set it as the input token for the next iteration. If the **end_token** is returned we exit the loop.\n",
    "\n",
    "> In the example below, molecules_numerical is a list with all the intermediate molecules generated during the process. It serves only for visualization purposes."
   ]
  },
  {
   "cell_type": "code",
   "execution_count": null,
   "id": "83ea35ed",
   "metadata": {},
   "outputs": [],
   "source": [
    "smiles_language = model.smiles_language\n",
    "\n",
    "molecules_numerical = []\n",
    "\n",
    "for idx in range(generate_len):\n",
    "    output, hidden, stack = decoder(input_token, hidden, stack)\n",
    "    logits = decoder.output_layer(output).squeeze(dim=0)\n",
    "    top_idx = search.step(logits)\n",
    "\n",
    "    input_token = top_idx.view(1, -1).to(decoder.device)\n",
    "    generated_seq = torch.cat((generated_seq, top_idx), dim=1)\n",
    "    \n",
    "    print(f\"Step {idx} - Tokens: {smiles_language.token_indexes_to_smiles(generated_seq[0].tolist())}\\n\")\n",
    "\n",
    "    # if we don't generate in batches, we can do early stopping.\n",
    "    if batch_size == 1 and top_idx == end_token:\n",
    "        break\n",
    "    \n",
    "    molecules_numerical.append(torch.cat((generated_seq, end_token.view(1,1)), dim=1)[0])"
   ]
  },
  {
   "cell_type": "markdown",
   "id": "8d0779bc",
   "metadata": {},
   "source": [
    "We now decode the tokens in the generated sequences into the SMILES language (and clean-up) so that we can visualize the molecules. Some molecules generated intermediatly are not valid and so they are filtered."
   ]
  },
  {
   "cell_type": "code",
   "execution_count": null,
   "id": "d0673d1f",
   "metadata": {},
   "outputs": [],
   "source": [
    "import mols2grid\n",
    "\n",
    "def remove_none_and_duplicate(seq):\n",
    "    pool = []\n",
    "    result = []\n",
    "    for mol in seq:\n",
    "        if mol is None:\n",
    "            continue\n",
    "        if mol in pool:\n",
    "            continue\n",
    "        result.append(mol)\n",
    "    return result\n",
    "\n",
    "smiles_num = [smiles_language.token_indexes_to_smiles(molecule_numerical.tolist())\n",
    "              for molecule_numerical in iter(molecules_numerical)]\n",
    "\n",
    "smiles = [smiles_language.selfies_to_smiles(sm) for sm in smiles_num]\n",
    "\n",
    "molecules = []\n",
    "for a_smiles in smiles:    \n",
    "    try:\n",
    "        molecules.append(Chem.MolFromSmiles(a_smiles, sanitize=True))\n",
    "        # This is used to catch errors in Chem.MolFromSmiles.\n",
    "        # To debug remove from the try/except clause.\n",
    "        \n",
    "    except Exception:\n",
    "        molecules.append(None)\n",
    "\n",
    "molecules = remove_none_and_duplicate(molecules)\n",
    "mols2grid.display(molecules, n_rows=10, fixedBondLength=200)"
   ]
  },
  {
   "cell_type": "markdown",
   "id": "e65c8e09",
   "metadata": {},
   "source": [
    "### Sampling and Plotting Molecules with GT4SD\n",
    "\n",
    "Let's go ahead and sample some molecules using the PaccMannRL algorithm.\n",
    "This time we will use the GT4SD interface, which greatly simplifies sampling for us.\n",
    "We start by sampling 15 molecules. We then convert them into a **Mol** object (**RDKit** package).\n",
    "Finally, we display them using the **mols2grid** package."
   ]
  },
  {
   "cell_type": "code",
   "execution_count": null,
   "id": "43bb7e37",
   "metadata": {},
   "outputs": [],
   "source": [
    "n_sampled_molecules = 15\n",
    "molecules = list(algorithm.sample(n_sampled_molecules))\n",
    "molecules = [Chem.MolFromSmiles(molecule) for molecule in molecules]\n",
    "mols2grid.display(molecules, fixedBondLength=200)"
   ]
  },
  {
   "cell_type": "markdown",
   "id": "ecd811d7",
   "metadata": {},
   "source": [
    "### Evaluating the generated molecules\n",
    "\n",
    "If we want to compare different algorithms, we can do so using different metrics. This next example shows how to estimate the properties of generated molecules using the PaccMannRL algorithm. We start by generating 100 new molecules. For each we compute the metrics defined in the beggining of the tutorial."
   ]
  },
  {
   "cell_type": "code",
   "execution_count": null,
   "id": "94bc9874",
   "metadata": {},
   "outputs": [],
   "source": [
    "n = 100\n",
    "molecules = list(algorithm.sample(n))\n",
    "\n",
    "drug_likeness = []\n",
    "solubility = []\n",
    "synthesizability = []\n",
    "molecular_weight = []\n",
    "affinity = []\n",
    "\n",
    "for molecule in molecules:\n",
    "    mol = Chem.MolFromSmiles(molecule)\n",
    "    drug_likeness.append(get_drug_likeness(mol))\n",
    "    solubility.append(get_solubility(mol))\n",
    "    synthesizability.append(get_synthesizability(mol))\n",
    "    molecular_weight.append(get_molecularWeight(mol))"
   ]
  },
  {
   "cell_type": "code",
   "execution_count": null,
   "id": "b4f60ed9",
   "metadata": {
    "scrolled": true
   },
   "outputs": [],
   "source": [
    "from matplotlib import pyplot as plt\n",
    "import seaborn as sns\n",
    "%matplotlib inline\n",
    "plt.rcParams[\"figure.figsize\"] = (10,7)\n",
    "\n",
    "def plot_density(values, x_axis=\"\", subplot=1):\n",
    "    plt.subplot(1, 4, subplot)\n",
    "    g = sns.distplot(values, hist=False, kde_kws={\"linewidth\": 4})\n",
    "    plt.xlabel(x_axis, size=14)\n",
    "\n",
    "plt.gcf().set_size_inches(15,4)\n",
    "plot_density(drug_likeness, \"Drug Likeness\", subplot=1)\n",
    "plot_density(solubility, \"Solubility\", subplot=2)\n",
    "plot_density(synthesizability, \"Synthesizability\", subplot=3)\n",
    "plot_density(molecular_weight, \"Molecular Weight\", subplot=4)\n",
    "plt.show()\n",
    "\n",
    "threshold = 0.75\n",
    "number_of_potential_molecules = len([qed for qed in drug_likeness if qed>=threshold])\n",
    "print(f\"Out of the {n} generated molecules, {number_of_potential_molecules} have a drug likeness equal or greater than {threshold}.\")"
   ]
  },
  {
   "cell_type": "markdown",
   "id": "6eb47b97",
   "metadata": {},
   "source": [
    "One of the most important metrics is drug likeness. We define the threshold of 0.75 and are \"satisfied\" with molecules that surpass that value. We will use the number of molecules that surpass this level to compare different algorithms."
   ]
  },
  {
   "cell_type": "markdown",
   "id": "49ce973c",
   "metadata": {},
   "source": [
    "### Visualizing the embedding space\n",
    "\n",
    "We can visualize the embedding space of the Variational Autoencoder. It can give us an idea of how this space is organized, and hint at how the VAE may be encoding different molecules.\n",
    "\n",
    "For this, we:\n",
    "- randomly generate points in the latent space;\n",
    "- keep the points that correspond to valid molecules;\n",
    "- plot those points using a 2D approximation;\n",
    "\n",
    "We visualize how different chemical properties are distributed in the latent space.\n",
    "\n",
    "Notice that we are compacting a high dimensional subspace into a 2D plot, and thus, necessarily loosing information."
   ]
  },
  {
   "cell_type": "code",
   "execution_count": null,
   "id": "ee963759",
   "metadata": {},
   "outputs": [],
   "source": [
    "from tqdm import tqdm\n",
    "\n",
    "# generate randomly points in the latent space\n",
    "number_of_latent_points = 2048\n",
    "latent_points = torch.randn(number_of_latent_points,\n",
    "                            model.encoder_latent_size,\n",
    "                            device=model.device)\n",
    "\n",
    "# keep points which correspond to valid molecules\n",
    "molecules = []\n",
    "for latent_point in tqdm(torch.unsqueeze(latent_points, 1)):\n",
    "    smiles_list = model.get_smiles_from_latent(latent_point)\n",
    "    generated_molecules = [Chem.MolFromSmiles(smiles) for smiles in smiles_list][:1]  # keeping only a molecule per point\n",
    "    molecules.extend(generated_molecules)\n",
    "valid_indexes = [index for index, molecule in enumerate(molecules) if molecule is not None]\n",
    "molecules = [molecules[index] for index in valid_indexes]\n",
    "latent_points = latent_points[valid_indexes]"
   ]
  },
  {
   "cell_type": "markdown",
   "id": "2d4e6ee0",
   "metadata": {},
   "source": [
    "**Exercise: comment/uncomment the code below to display different properties in the latent space**\n",
    "\n",
    "**Exercise: comment/uncomment the code below to use different algorithms for dimentionality reduction (TSNE/PCA)**"
   ]
  },
  {
   "cell_type": "code",
   "execution_count": null,
   "id": "9b00a2e8",
   "metadata": {},
   "outputs": [],
   "source": [
    "# Visualization\n",
    "from sklearn.decomposition import PCA\n",
    "from sklearn.manifold import TSNE\n",
    "import seaborn as sns\n",
    "%matplotlib inline\n",
    "plt.rcParams[\"figure.figsize\"] = (10,7)\n",
    "\n",
    "def render_latent_points(latent_points, values):\n",
    "    decomposed_points = PCA(n_components=2).fit_transform(latent_points)\n",
    "    #decomposed_points = TSNE(n_components=2).fit_transform(latent_points)\n",
    "    sns.scatterplot(x=decomposed_points[:, 0], y=decomposed_points[:, 1], hue=values)\n",
    "\n",
    "values=[]\n",
    "for molecule in molecules:\n",
    "    try:\n",
    "        #values.append(get_drug_likeness(molecule))\n",
    "        #values.append(get_solubility(molecule))\n",
    "        #values.append(get_synthesizability(molecule))\n",
    "        values.append(get_molecularWeight(molecule))\n",
    "    except:\n",
    "        values.append(0.0)\n",
    "_ = render_latent_points(latent_points.cpu(), values=values)\n",
    "_ = plt.title(\"2D representation of the latent space\")"
   ]
  },
  {
   "cell_type": "markdown",
   "id": "b4e7dddd",
   "metadata": {},
   "source": [
    "## Generation with PaccMannGP\n",
    "\n",
    "\n",
    "The goal of the PaccMannGP method is to generate new molecules that optimize predefined\n",
    "parameters, such as drug likeness.\n",
    "\n",
    "\n",
    "The model used in PaccMannGP is a standard Variational Autoencoder for molecular design,\n",
    "trained with the standard reconstruction and regularization losses. The encoder of the VAE\n",
    "maps a molecule into a latent space with a Gaussian distribution, where it is possible to sample\n",
    "new data points. The decoder performs the reverse operation by translating data points from\n",
    "the latent space into the original data space.\n",
    "\n",
    "The method performs Bayesian Optimization with Gaussian Processes to explore the latent\n",
    "space of the VAE, aiming to find a compound that maximizes drug likeness. Then, the method\n",
    "uses the decoder of the VAE to obtain the compound that was found to maximize drug likeness\n",
    "in the latent space.\n",
    "\n",
    "\n",
    "**References:**\n",
    "\n",
    "[1] - Born J., Huynh T., Stroobants A., Cornell W. D. , and Manica M. (2022). Active Site Sequence Representations of Human Kinases Outperform Full Sequence Representations for Affinity Prediction and Inhibitor Generation: 3D Effects in a 1D Model. Journal of Chemical Information and Modeling 2022 62 (2), 240-257\n",
    "https://doi.org/10.1021/acs.jcim.1c00889"
   ]
  },
  {
   "cell_type": "markdown",
   "id": "75f3ccf4",
   "metadata": {},
   "source": [
    "### Configuring the model"
   ]
  },
  {
   "cell_type": "code",
   "execution_count": null,
   "id": "1027077e",
   "metadata": {},
   "outputs": [],
   "source": [
    "from gt4sd.algorithms.controlled_sampling.paccmann_gp.core import PaccMannGP, PaccMannGPGenerator\n",
    "\n",
    "# maximizing drug likeness and synthesizability\n",
    "target = {\"qed\": {\"weight\": 1.0},\n",
    "          \"sa\": {\"weight\": 1.0}}\n",
    "\n",
    "configuration = PaccMannGPGenerator()\n",
    "algorithm = PaccMannGP(configuration=configuration, target=target)"
   ]
  },
  {
   "cell_type": "markdown",
   "id": "b044a0c1",
   "metadata": {},
   "source": [
    "### Sampling and Plotting Molecules with GT4SD\n",
    "\n",
    "Let's go ahead and sample some molecules using the PaccMannRL algorithm.\n",
    "This time we will use the GT4SD interface, which greatly simplifies sampling for us.\n",
    "We start by sampling 15 molecules. We then convert them into a **Mol** object (**RDKit** package).\n",
    "Finally, we display them using the **mols2grid** package."
   ]
  },
  {
   "cell_type": "code",
   "execution_count": null,
   "id": "fcf066b5",
   "metadata": {},
   "outputs": [],
   "source": [
    "n_sampled_molecules = 15\n",
    "molecules = list(algorithm.sample(n_sampled_molecules))\n",
    "molecues = [Chem.MolFromSmiles(molecule) for molecule in molecules]\n",
    "mols2grid.display(molecues, fixedBondLength=200)"
   ]
  },
  {
   "cell_type": "markdown",
   "id": "240d8317",
   "metadata": {},
   "source": [
    "### Evaluating the generated molecules\n",
    "\n",
    "If we want to compare different algorithms, we can do so using different metrics. This next example shows how to estimate the properties of generated molecules using the PaccMannRL algorithm. We start by generating 100 new molecules. For each we compute the metrics defined in the beggining of the tutorial."
   ]
  },
  {
   "cell_type": "code",
   "execution_count": null,
   "id": "dfbfa79a",
   "metadata": {},
   "outputs": [],
   "source": [
    "n = 100\n",
    "molecules = list(algorithm.sample(n))\n",
    "\n",
    "drug_likeness = []\n",
    "solubility = []\n",
    "synthesizability = []\n",
    "molecular_weight = []\n",
    "affinity = []\n",
    "\n",
    "for molecule in molecules:\n",
    "    mol = Chem.MolFromSmiles(molecule)\n",
    "    drug_likeness.append(get_drug_likeness(mol))\n",
    "    solubility.append(get_solubility(mol))\n",
    "    synthesizability.append(get_synthesizability(mol))\n",
    "    molecular_weight.append(get_molecularWeight(mol))"
   ]
  },
  {
   "cell_type": "code",
   "execution_count": null,
   "id": "54d48be3",
   "metadata": {
    "scrolled": true
   },
   "outputs": [],
   "source": [
    "def plot_density(values, x_axis=\"\", subplot=1):\n",
    "    plt.subplot(1, 4, subplot)\n",
    "    g = sns.distplot(values, hist=False, kde_kws={\"linewidth\": 4})\n",
    "    plt.xlabel(x_axis, size=14)\n",
    "\n",
    "plt.gcf().set_size_inches(15,4)\n",
    "plot_density(drug_likeness, \"Drug Likeness\", subplot=1)\n",
    "plot_density(solubility, \"Solubility\", subplot=2)\n",
    "plot_density(synthesizability, \"Synthesizability\", subplot=3)\n",
    "plot_density(molecular_weight, \"Molecular Weight\", subplot=4)\n",
    "plt.show()\n",
    "\n",
    "threshold = 0.75\n",
    "number_of_potential_molecules = len([qed for qed in drug_likeness if qed>=threshold])\n",
    "print(f\"Out of the {n} generated molecules, {number_of_potential_molecules} have a drug likeness equal or greater than {threshold}.\")"
   ]
  },
  {
   "cell_type": "code",
   "execution_count": null,
   "id": "b51be13a",
   "metadata": {},
   "outputs": [],
   "source": []
  }
 ],
 "metadata": {
  "colab": {
   "collapsed_sections": [],
   "name": "visum_generative_class.ipynb",
   "provenance": []
  },
  "kernelspec": {
   "display_name": "gt4sd",
   "language": "python",
   "name": "gt4sd"
  },
  "language_info": {
   "codemirror_mode": {
    "name": "ipython",
    "version": 3
   },
   "file_extension": ".py",
   "mimetype": "text/x-python",
   "name": "python",
   "nbconvert_exporter": "python",
   "pygments_lexer": "ipython3",
   "version": "3.7.13"
  }
 },
 "nbformat": 4,
 "nbformat_minor": 5
}
